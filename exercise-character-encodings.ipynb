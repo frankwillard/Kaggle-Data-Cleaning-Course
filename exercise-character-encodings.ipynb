{
 "cells": [
  {
   "cell_type": "markdown",
   "id": "59369c66",
   "metadata": {
    "papermill": {
     "duration": 0.01636,
     "end_time": "2021-12-20T19:27:59.045673",
     "exception": false,
     "start_time": "2021-12-20T19:27:59.029313",
     "status": "completed"
    },
    "tags": []
   },
   "source": [
    "**This notebook is an exercise in the [Data Cleaning](https://www.kaggle.com/learn/data-cleaning) course.  You can reference the tutorial at [this link](https://www.kaggle.com/alexisbcook/character-encodings).**\n",
    "\n",
    "---\n"
   ]
  },
  {
   "cell_type": "markdown",
   "id": "010d8fc8",
   "metadata": {
    "papermill": {
     "duration": 0.015072,
     "end_time": "2021-12-20T19:27:59.075970",
     "exception": false,
     "start_time": "2021-12-20T19:27:59.060898",
     "status": "completed"
    },
    "tags": []
   },
   "source": [
    "In this exercise, you'll apply what you learned in the **Character encodings** tutorial.\n",
    "\n",
    "# Setup\n",
    "\n",
    "The questions below will give you feedback on your work. Run the following cell to set up the feedback system."
   ]
  },
  {
   "cell_type": "code",
   "execution_count": 1,
   "id": "13b545b1",
   "metadata": {
    "execution": {
     "iopub.execute_input": "2021-12-20T19:27:59.114162Z",
     "iopub.status.busy": "2021-12-20T19:27:59.113526Z",
     "iopub.status.idle": "2021-12-20T19:27:59.202675Z",
     "shell.execute_reply": "2021-12-20T19:27:59.201908Z",
     "shell.execute_reply.started": "2021-12-20T19:09:42.625550Z"
    },
    "papermill": {
     "duration": 0.112354,
     "end_time": "2021-12-20T19:27:59.202853",
     "exception": false,
     "start_time": "2021-12-20T19:27:59.090499",
     "status": "completed"
    },
    "tags": []
   },
   "outputs": [
    {
     "name": "stdout",
     "output_type": "stream",
     "text": [
      "Setup Complete\n"
     ]
    }
   ],
   "source": [
    "from learntools.core import binder\n",
    "binder.bind(globals())\n",
    "from learntools.data_cleaning.ex4 import *\n",
    "print(\"Setup Complete\")"
   ]
  },
  {
   "cell_type": "markdown",
   "id": "510b2595",
   "metadata": {
    "papermill": {
     "duration": 0.015295,
     "end_time": "2021-12-20T19:27:59.234483",
     "exception": false,
     "start_time": "2021-12-20T19:27:59.219188",
     "status": "completed"
    },
    "tags": []
   },
   "source": [
    "# Get our environment set up\n",
    "\n",
    "The first thing we'll need to do is load in the libraries we'll be using."
   ]
  },
  {
   "cell_type": "code",
   "execution_count": 2,
   "id": "3bf3cd67",
   "metadata": {
    "execution": {
     "iopub.execute_input": "2021-12-20T19:27:59.268026Z",
     "iopub.status.busy": "2021-12-20T19:27:59.267294Z",
     "iopub.status.idle": "2021-12-20T19:27:59.271450Z",
     "shell.execute_reply": "2021-12-20T19:27:59.272207Z",
     "shell.execute_reply.started": "2021-12-20T19:10:17.185448Z"
    },
    "papermill": {
     "duration": 0.022844,
     "end_time": "2021-12-20T19:27:59.272390",
     "exception": false,
     "start_time": "2021-12-20T19:27:59.249546",
     "status": "completed"
    },
    "tags": []
   },
   "outputs": [],
   "source": [
    "# modules we'll use\n",
    "import pandas as pd\n",
    "import numpy as np\n",
    "\n",
    "# helpful character encoding module\n",
    "import chardet\n",
    "\n",
    "# set seed for reproducibility\n",
    "np.random.seed(0)"
   ]
  },
  {
   "cell_type": "markdown",
   "id": "a2925568",
   "metadata": {
    "papermill": {
     "duration": 0.016024,
     "end_time": "2021-12-20T19:27:59.303766",
     "exception": false,
     "start_time": "2021-12-20T19:27:59.287742",
     "status": "completed"
    },
    "tags": []
   },
   "source": [
    "# 1) What are encodings?\n",
    "\n",
    "You're working with a dataset composed of bytes.  Run the code cell below to print a sample entry."
   ]
  },
  {
   "cell_type": "code",
   "execution_count": 3,
   "id": "c9ade951",
   "metadata": {
    "execution": {
     "iopub.execute_input": "2021-12-20T19:27:59.337591Z",
     "iopub.status.busy": "2021-12-20T19:27:59.336929Z",
     "iopub.status.idle": "2021-12-20T19:27:59.342046Z",
     "shell.execute_reply": "2021-12-20T19:27:59.342859Z",
     "shell.execute_reply.started": "2021-12-20T19:10:20.933465Z"
    },
    "papermill": {
     "duration": 0.023623,
     "end_time": "2021-12-20T19:27:59.343119",
     "exception": false,
     "start_time": "2021-12-20T19:27:59.319496",
     "status": "completed"
    },
    "tags": []
   },
   "outputs": [
    {
     "name": "stdout",
     "output_type": "stream",
     "text": [
      "b'\\xa7A\\xa6n'\n",
      "data type: <class 'bytes'>\n"
     ]
    }
   ],
   "source": [
    "sample_entry = b'\\xa7A\\xa6n'\n",
    "print(sample_entry)\n",
    "print('data type:', type(sample_entry))"
   ]
  },
  {
   "cell_type": "markdown",
   "id": "e5437778",
   "metadata": {
    "papermill": {
     "duration": 0.015526,
     "end_time": "2021-12-20T19:27:59.374892",
     "exception": false,
     "start_time": "2021-12-20T19:27:59.359366",
     "status": "completed"
    },
    "tags": []
   },
   "source": [
    "You notice that it doesn't use the standard UTF-8 encoding. \n",
    "\n",
    "Use the next code cell to create a variable `new_entry` that changes the encoding from `\"big5-tw\"` to `\"utf-8\"`.  `new_entry` should have the bytes datatype."
   ]
  },
  {
   "cell_type": "code",
   "execution_count": 4,
   "id": "222fa392",
   "metadata": {
    "execution": {
     "iopub.execute_input": "2021-12-20T19:27:59.409107Z",
     "iopub.status.busy": "2021-12-20T19:27:59.408404Z",
     "iopub.status.idle": "2021-12-20T19:27:59.416646Z",
     "shell.execute_reply": "2021-12-20T19:27:59.417145Z",
     "shell.execute_reply.started": "2021-12-20T19:15:13.702875Z"
    },
    "papermill": {
     "duration": 0.027192,
     "end_time": "2021-12-20T19:27:59.417310",
     "exception": false,
     "start_time": "2021-12-20T19:27:59.390118",
     "status": "completed"
    },
    "tags": []
   },
   "outputs": [
    {
     "data": {
      "application/javascript": [
       "parent.postMessage({\"jupyterEvent\": \"custom.exercise_interaction\", \"data\": {\"outcomeType\": 1, \"valueTowardsCompletion\": 0.3333333333333333, \"interactionType\": 1, \"questionType\": 1, \"questionId\": \"1_EncodingsIntro\", \"learnToolsVersion\": \"0.3.4\", \"failureMessage\": \"\", \"exceptionClass\": \"\", \"trace\": \"\"}}, \"*\")"
      ],
      "text/plain": [
       "<IPython.core.display.Javascript object>"
      ]
     },
     "metadata": {},
     "output_type": "display_data"
    },
    {
     "data": {
      "text/markdown": [
       "<span style=\"color:#33cc33\">Correct</span>"
      ],
      "text/plain": [
       "Correct"
      ]
     },
     "metadata": {},
     "output_type": "display_data"
    }
   ],
   "source": [
    "new_entry = sample_entry.decode(\"big5-tw\").encode(\"utf-8\", errors=\"replace\")\n",
    "\n",
    "# Check your answer\n",
    "q1.check()"
   ]
  },
  {
   "cell_type": "code",
   "execution_count": 5,
   "id": "79675ec0",
   "metadata": {
    "execution": {
     "iopub.execute_input": "2021-12-20T19:27:59.452899Z",
     "iopub.status.busy": "2021-12-20T19:27:59.452227Z",
     "iopub.status.idle": "2021-12-20T19:27:59.455110Z",
     "shell.execute_reply": "2021-12-20T19:27:59.455652Z",
     "shell.execute_reply.started": "2021-12-20T19:14:40.853600Z"
    },
    "papermill": {
     "duration": 0.022348,
     "end_time": "2021-12-20T19:27:59.455837",
     "exception": false,
     "start_time": "2021-12-20T19:27:59.433489",
     "status": "completed"
    },
    "tags": []
   },
   "outputs": [],
   "source": [
    "# Lines below will give you a hint or solution code\n",
    "#q1.hint()\n",
    "#q1.solution()"
   ]
  },
  {
   "cell_type": "markdown",
   "id": "d272a0e3",
   "metadata": {
    "papermill": {
     "duration": 0.015795,
     "end_time": "2021-12-20T19:27:59.487907",
     "exception": false,
     "start_time": "2021-12-20T19:27:59.472112",
     "status": "completed"
    },
    "tags": []
   },
   "source": [
    "# 2) Reading in files with encoding problems\n",
    "\n",
    "Use the code cell below to read in this file at path `\"../input/fatal-police-shootings-in-the-us/PoliceKillingsUS.csv\"`.  \n",
    "\n",
    "Figure out what the correct encoding should be and read in the file to a DataFrame `police_killings`."
   ]
  },
  {
   "cell_type": "code",
   "execution_count": 6,
   "id": "982ea30e",
   "metadata": {
    "execution": {
     "iopub.execute_input": "2021-12-20T19:27:59.526860Z",
     "iopub.status.busy": "2021-12-20T19:27:59.525785Z",
     "iopub.status.idle": "2021-12-20T19:27:59.549068Z",
     "shell.execute_reply": "2021-12-20T19:27:59.549740Z",
     "shell.execute_reply.started": "2021-12-20T19:23:01.885141Z"
    },
    "papermill": {
     "duration": 0.045747,
     "end_time": "2021-12-20T19:27:59.549935",
     "exception": false,
     "start_time": "2021-12-20T19:27:59.504188",
     "status": "completed"
    },
    "tags": []
   },
   "outputs": [
    {
     "data": {
      "application/javascript": [
       "parent.postMessage({\"jupyterEvent\": \"custom.exercise_interaction\", \"data\": {\"outcomeType\": 1, \"valueTowardsCompletion\": 0.3333333333333333, \"interactionType\": 1, \"questionType\": 1, \"questionId\": \"2_ReadIn\", \"learnToolsVersion\": \"0.3.4\", \"failureMessage\": \"\", \"exceptionClass\": \"\", \"trace\": \"\"}}, \"*\")"
      ],
      "text/plain": [
       "<IPython.core.display.Javascript object>"
      ]
     },
     "metadata": {},
     "output_type": "display_data"
    },
    {
     "data": {
      "text/markdown": [
       "<span style=\"color:#33cc33\">Correct</span>"
      ],
      "text/plain": [
       "Correct"
      ]
     },
     "metadata": {},
     "output_type": "display_data"
    }
   ],
   "source": [
    "# TODO: Load in the DataFrame correctly.\n",
    "police_killings = pd.read_csv(\"../input/fatal-police-shootings-in-the-us/PoliceKillingsUS.csv\", encoding='Windows-1252')\n",
    "\n",
    "# Check your answer\n",
    "q2.check()"
   ]
  },
  {
   "cell_type": "markdown",
   "id": "02cee513",
   "metadata": {
    "papermill": {
     "duration": 0.016881,
     "end_time": "2021-12-20T19:27:59.584408",
     "exception": false,
     "start_time": "2021-12-20T19:27:59.567527",
     "status": "completed"
    },
    "tags": []
   },
   "source": [
    "Feel free to use any additional code cells for supplemental work.  To get credit for finishing this question, you'll need to run `q2.check()` and get a result of **Correct**."
   ]
  },
  {
   "cell_type": "code",
   "execution_count": 7,
   "id": "2eaa2f2d",
   "metadata": {
    "execution": {
     "iopub.execute_input": "2021-12-20T19:27:59.623043Z",
     "iopub.status.busy": "2021-12-20T19:27:59.621988Z",
     "iopub.status.idle": "2021-12-20T19:27:59.625478Z",
     "shell.execute_reply": "2021-12-20T19:27:59.626041Z",
     "shell.execute_reply.started": "2021-12-20T19:27:01.247585Z"
    },
    "papermill": {
     "duration": 0.02435,
     "end_time": "2021-12-20T19:27:59.626208",
     "exception": false,
     "start_time": "2021-12-20T19:27:59.601858",
     "status": "completed"
    },
    "tags": []
   },
   "outputs": [],
   "source": [
    "# (Optional) Use this code cell for any additional work.\n",
    "\n",
    "#Running this produces an error around byte position 25k\n",
    "\n",
    "#with open(\"../input/fatal-police-shootings-in-the-us/PoliceKillingsUS.csv\", \"r\") as f:\n",
    "#    print(f.read().split(\"\\n\"))"
   ]
  },
  {
   "cell_type": "code",
   "execution_count": 8,
   "id": "226bd53d",
   "metadata": {
    "execution": {
     "iopub.execute_input": "2021-12-20T19:27:59.664401Z",
     "iopub.status.busy": "2021-12-20T19:27:59.663327Z",
     "iopub.status.idle": "2021-12-20T19:28:00.295539Z",
     "shell.execute_reply": "2021-12-20T19:28:00.294918Z",
     "shell.execute_reply.started": "2021-12-20T19:22:53.146474Z"
    },
    "papermill": {
     "duration": 0.652432,
     "end_time": "2021-12-20T19:28:00.295707",
     "exception": false,
     "start_time": "2021-12-20T19:27:59.643275",
     "status": "completed"
    },
    "tags": []
   },
   "outputs": [
    {
     "name": "stdout",
     "output_type": "stream",
     "text": [
      "{'encoding': 'Windows-1252', 'confidence': 0.73, 'language': ''}\n"
     ]
    }
   ],
   "source": [
    "with open(\"../input/fatal-police-shootings-in-the-us/PoliceKillingsUS.csv\", \"rb\") as f:\n",
    "    print(chardet.detect(f.read(25273)))"
   ]
  },
  {
   "cell_type": "code",
   "execution_count": 9,
   "id": "95ca27f7",
   "metadata": {
    "execution": {
     "iopub.execute_input": "2021-12-20T19:28:00.336922Z",
     "iopub.status.busy": "2021-12-20T19:28:00.335902Z",
     "iopub.status.idle": "2021-12-20T19:28:00.338368Z",
     "shell.execute_reply": "2021-12-20T19:28:00.338890Z",
     "shell.execute_reply.started": "2021-12-20T19:19:47.232652Z"
    },
    "papermill": {
     "duration": 0.025375,
     "end_time": "2021-12-20T19:28:00.339070",
     "exception": false,
     "start_time": "2021-12-20T19:28:00.313695",
     "status": "completed"
    },
    "tags": []
   },
   "outputs": [],
   "source": [
    "# Lines below will give you a hint or solution code\n",
    "#q2.hint()\n",
    "#q2.solution()"
   ]
  },
  {
   "cell_type": "markdown",
   "id": "5de1554f",
   "metadata": {
    "papermill": {
     "duration": 0.017132,
     "end_time": "2021-12-20T19:28:00.373902",
     "exception": false,
     "start_time": "2021-12-20T19:28:00.356770",
     "status": "completed"
    },
    "tags": []
   },
   "source": [
    "# 3) Saving your files with UTF-8 encoding\n",
    "\n",
    "Save a version of the police killings dataset to CSV with UTF-8 encoding.  Your answer will be marked correct after saving this file.  \n",
    "\n",
    "Note: When using the `to_csv()` method, supply only the name of the file (e.g., `\"my_file.csv\"`).  This saves the file at the filepath `\"/kaggle/working/my_file.csv\"`."
   ]
  },
  {
   "cell_type": "code",
   "execution_count": 10,
   "id": "dfd23c77",
   "metadata": {
    "execution": {
     "iopub.execute_input": "2021-12-20T19:28:00.414382Z",
     "iopub.status.busy": "2021-12-20T19:28:00.413670Z",
     "iopub.status.idle": "2021-12-20T19:28:00.458297Z",
     "shell.execute_reply": "2021-12-20T19:28:00.457750Z",
     "shell.execute_reply.started": "2021-12-20T19:24:03.393545Z"
    },
    "papermill": {
     "duration": 0.067002,
     "end_time": "2021-12-20T19:28:00.458450",
     "exception": false,
     "start_time": "2021-12-20T19:28:00.391448",
     "status": "completed"
    },
    "tags": []
   },
   "outputs": [
    {
     "data": {
      "application/javascript": [
       "parent.postMessage({\"jupyterEvent\": \"custom.exercise_interaction\", \"data\": {\"outcomeType\": 1, \"valueTowardsCompletion\": 0.3333333333333333, \"interactionType\": 1, \"questionType\": 2, \"questionId\": \"3_SaveCSV\", \"learnToolsVersion\": \"0.3.4\", \"failureMessage\": \"\", \"exceptionClass\": \"\", \"trace\": \"\"}}, \"*\")"
      ],
      "text/plain": [
       "<IPython.core.display.Javascript object>"
      ]
     },
     "metadata": {},
     "output_type": "display_data"
    },
    {
     "data": {
      "text/markdown": [
       "<span style=\"color:#33cc33\">Correct</span>"
      ],
      "text/plain": [
       "Correct"
      ]
     },
     "metadata": {},
     "output_type": "display_data"
    }
   ],
   "source": [
    "# TODO: Save the police killings dataset to CSV\n",
    "police_killings.to_csv(\"PoliceKillingsUS-utf8.csv\")\n",
    "\n",
    "\n",
    "# Check your answer\n",
    "q3.check()"
   ]
  },
  {
   "cell_type": "code",
   "execution_count": 11,
   "id": "9a615d97",
   "metadata": {
    "execution": {
     "iopub.execute_input": "2021-12-20T19:28:00.500825Z",
     "iopub.status.busy": "2021-12-20T19:28:00.500108Z",
     "iopub.status.idle": "2021-12-20T19:28:00.502927Z",
     "shell.execute_reply": "2021-12-20T19:28:00.502374Z"
    },
    "papermill": {
     "duration": 0.026011,
     "end_time": "2021-12-20T19:28:00.503070",
     "exception": false,
     "start_time": "2021-12-20T19:28:00.477059",
     "status": "completed"
    },
    "tags": []
   },
   "outputs": [],
   "source": [
    "# Lines below will give you a hint or solution code\n",
    "#q3.hint()\n",
    "#q3.solution()"
   ]
  },
  {
   "cell_type": "markdown",
   "id": "4ecd1a44",
   "metadata": {
    "papermill": {
     "duration": 0.018271,
     "end_time": "2021-12-20T19:28:00.540160",
     "exception": false,
     "start_time": "2021-12-20T19:28:00.521889",
     "status": "completed"
    },
    "tags": []
   },
   "source": [
    "# (Optional) More practice\n",
    "\n",
    "Check out [this dataset of files in different character encodings](https://www.kaggle.com/rtatman/character-encoding-examples). Can you read in all the files with their original encodings and them save them out as UTF-8 files?\n",
    "\n",
    "If you have a file that's in UTF-8 but has just a couple of weird-looking characters in it, you can try out the [ftfy module](https://ftfy.readthedocs.io/en/latest/#) and see if it helps. \n",
    "\n",
    "# Keep going\n",
    "\n",
    "In the final lesson, learn how to [**clean up inconsistent text entries**](https://www.kaggle.com/alexisbcook/inconsistent-data-entry) in your dataset."
   ]
  },
  {
   "cell_type": "markdown",
   "id": "11e5f7be",
   "metadata": {
    "papermill": {
     "duration": 0.018826,
     "end_time": "2021-12-20T19:28:00.578707",
     "exception": false,
     "start_time": "2021-12-20T19:28:00.559881",
     "status": "completed"
    },
    "tags": []
   },
   "source": [
    "---\n",
    "\n",
    "\n",
    "\n",
    "\n",
    "*Have questions or comments? Visit the [course discussion forum](https://www.kaggle.com/learn/data-cleaning/discussion) to chat with other learners.*"
   ]
  }
 ],
 "metadata": {
  "kernelspec": {
   "display_name": "Python 3",
   "language": "python",
   "name": "python3"
  },
  "language_info": {
   "codemirror_mode": {
    "name": "ipython",
    "version": 3
   },
   "file_extension": ".py",
   "mimetype": "text/x-python",
   "name": "python",
   "nbconvert_exporter": "python",
   "pygments_lexer": "ipython3",
   "version": "3.7.12"
  },
  "papermill": {
   "default_parameters": {},
   "duration": 13.121655,
   "end_time": "2021-12-20T19:28:01.207625",
   "environment_variables": {},
   "exception": null,
   "input_path": "__notebook__.ipynb",
   "output_path": "__notebook__.ipynb",
   "parameters": {},
   "start_time": "2021-12-20T19:27:48.085970",
   "version": "2.3.3"
  }
 },
 "nbformat": 4,
 "nbformat_minor": 5
}
